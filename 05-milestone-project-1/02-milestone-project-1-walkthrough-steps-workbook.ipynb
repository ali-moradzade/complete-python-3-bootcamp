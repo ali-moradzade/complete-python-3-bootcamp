{
 "cells": [
  {
   "cell_type": "markdown",
   "metadata": {},
   "source": [
    "___\n",
    "\n",
    "![alt](pierian-data-logo.png)\n",
    "___\n",
    "<center><em>Content Copyright by Pierian Data</em></center>"
   ]
  },
  {
   "cell_type": "markdown",
   "metadata": {},
   "source": [
    "# Milestone Project 1: Walkthrough Steps Workbook\n",
    "\n",
    "Below is a set of steps for you to follow to try to create the Tic Tac Toe Milestone Project game!"
   ]
  },
  {
   "cell_type": "markdown",
   "metadata": {},
   "source": [
    "#### Some suggested tools before you get started:\n",
    "To take input from a user:\n",
    "\n",
    "    player1 = input(\"Please pick a marker 'X' or 'O'\")\n",
    "    \n",
    "Note that input() takes in a string. If you need an integer value, use\n",
    "\n",
    "    position = int(input('Please enter a number'))\n",
    "    \n",
    "<br>To clear the screen between moves:\n",
    "\n",
    "    from IPython.display import clear_output\n",
    "    clear_output()\n",
    "    \n",
    "Note that clear_output() will only work in jupyter. To clear the screen in other IDEs, consider:\n",
    "\n",
    "    print('\\n'*100)\n",
    "    \n",
    "This scrolls the previous board up out of view. Now on to the program!"
   ]
  },
  {
   "cell_type": "markdown",
   "metadata": {},
   "source": [
    "**Step 1: Write a function that can print out a board. Set up your board as a list, where each index 1-9 corresponds with a number on a number pad, so you get a 3 by 3 board representation.**"
   ]
  },
  {
   "cell_type": "code",
   "execution_count": 5,
   "metadata": {},
   "outputs": [],
   "source": [
    "from IPython.display import clear_output\n",
    "\n",
    "\n",
    "def display_board(board):\n",
    "\tclear_output()\n",
    "\tprint('   |   |   ')\n",
    "\tprint(' ' + board[7] + ' | ' + board[8] + ' | ' + board[9])\n",
    "\tprint('   |   |   ')\n",
    "\tprint('-----------')\n",
    "\tprint('   |   |   ')\n",
    "\tprint(' ' + board[4] + ' | ' + board[5] + ' | ' + board[6])\n",
    "\tprint('   |   |   ')\n",
    "\tprint('-----------')\n",
    "\tprint('   |   |   ')\n",
    "\tprint(' ' + board[1] + ' | ' + board[2] + ' | ' + board[3])\n",
    "\tprint('   |   |   ')"
   ]
  },
  {
   "cell_type": "markdown",
   "metadata": {},
   "source": [
    "**TEST Step 1:** run your function on a test version of the board list, and make adjustments as necessary"
   ]
  },
  {
   "cell_type": "code",
   "execution_count": 6,
   "metadata": {},
   "outputs": [
    {
     "name": "stdout",
     "output_type": "stream",
     "text": [
      "   |   |   \n",
      " X | O | X\n",
      "   |   |   \n",
      "-----------\n",
      "   |   |   \n",
      " O | X | O\n",
      "   |   |   \n",
      "-----------\n",
      "   |   |   \n",
      " X | O | X\n",
      "   |   |   \n"
     ]
    }
   ],
   "source": [
    "test_board = ['#', 'X', 'O', 'X', 'O', 'X', 'O', 'X', 'O', 'X']\n",
    "display_board(test_board)\n",
    "display_board(test_board)"
   ]
  },
  {
   "cell_type": "markdown",
   "metadata": {},
   "source": [
    "**Step 2: Write a function that can take in a player input and assign their marker as 'X' or 'O'. Think about using *while* loops to continually ask until you get a correct answer.**"
   ]
  },
  {
   "cell_type": "code",
   "execution_count": 7,
   "metadata": {},
   "outputs": [],
   "source": [
    "def player_input():\n",
    "\t'''\n",
    "    OUTPUT: (Player 1 marker, Player 2 marker)\n",
    "    '''\n",
    "\tmarker = ''\n",
    "\n",
    "\twhile marker not in ('X', 'O'):\n",
    "\t\tmarker = input('Player 1, choose X or O: ').upper()\n",
    "\n",
    "\t# KEEP ASKING PLAYER 1 to choose X or O\n",
    "\tplayer1 = marker\n",
    "\n",
    "\tif player1 == 'X':\n",
    "\t\tplayer2 = 'O'\n",
    "\telse:\n",
    "\t\tplayer2 = 'X'\n",
    "\n",
    "\treturn (player1, player2)"
   ]
  },
  {
   "cell_type": "markdown",
   "metadata": {},
   "source": [
    "**TEST Step 2:** run the function to make sure it returns the desired output"
   ]
  },
  {
   "cell_type": "code",
   "execution_count": 7,
   "metadata": {},
   "outputs": [
    {
     "name": "stdout",
     "output_type": "stream",
     "text": [
      "Player 1, choose X or O: x\n"
     ]
    }
   ],
   "source": [
    "player1_marker, player2_marker = player_input()"
   ]
  },
  {
   "cell_type": "code",
   "execution_count": 8,
   "metadata": {},
   "outputs": [
    {
     "data": {
      "text/plain": [
       "'X'"
      ]
     },
     "execution_count": 8,
     "metadata": {},
     "output_type": "execute_result"
    }
   ],
   "source": [
    "player1_marker"
   ]
  },
  {
   "cell_type": "markdown",
   "metadata": {},
   "source": [
    "**Step 3: Write a function that takes in the board list object, a marker ('X' or 'O'), and a desired position (number 1-9) and assigns it to the board.**"
   ]
  },
  {
   "cell_type": "code",
   "execution_count": 8,
   "metadata": {},
   "outputs": [],
   "source": [
    "def place_marker(board, marker, position):\n",
    "\tboard[position] = marker"
   ]
  },
  {
   "cell_type": "markdown",
   "metadata": {},
   "source": [
    "**TEST Step 3:** run the place marker function using test parameters and display the modified board"
   ]
  },
  {
   "cell_type": "code",
   "execution_count": 10,
   "metadata": {},
   "outputs": [
    {
     "data": {
      "text/plain": [
       "['#', 'X', 'O', 'X', 'O', 'X', 'O', 'X', 'O', 'X']"
      ]
     },
     "execution_count": 10,
     "metadata": {},
     "output_type": "execute_result"
    }
   ],
   "source": [
    "test_board"
   ]
  },
  {
   "cell_type": "code",
   "execution_count": 9,
   "metadata": {},
   "outputs": [
    {
     "name": "stdout",
     "output_type": "stream",
     "text": [
      "   |   |   \n",
      " X | $ | X\n",
      "   |   |   \n",
      "-----------\n",
      "   |   |   \n",
      " O | X | O\n",
      "   |   |   \n",
      "-----------\n",
      "   |   |   \n",
      " X | O | X\n",
      "   |   |   \n"
     ]
    }
   ],
   "source": [
    "place_marker(test_board, '$', 8)\n",
    "display_board(test_board)"
   ]
  },
  {
   "cell_type": "markdown",
   "metadata": {},
   "source": [
    "**Step 4: Write a function that takes in a board and a mark (X or O) and then checks to see if that mark has won. **"
   ]
  },
  {
   "cell_type": "code",
   "execution_count": 10,
   "metadata": {},
   "outputs": [],
   "source": [
    "def win_check(board, mark):\n",
    "\treturn (\n",
    "\t\t# check horizontally\n",
    "\t\t\t(board[1] == board[2] == board[3] == mark) or\n",
    "\t\t\t(board[4] == board[5] == board[6] == mark) or\n",
    "\t\t\t(board[7] == board[8] == board[9] == mark) or\n",
    "\n",
    "\t\t\t# check vertically\n",
    "\t\t\t(board[1] == board[4] == board[7] == mark) or\n",
    "\t\t\t(board[2] == board[5] == board[8] == mark) or\n",
    "\t\t\t(board[3] == board[6] == board[9] == mark) or\n",
    "\n",
    "\t\t\t# check vertically\n",
    "\t\t\t(board[1] == board[5] == board[9] == mark) or\n",
    "\t\t\t(board[3] == board[5] == board[7] == mark))\n"
   ]
  },
  {
   "cell_type": "markdown",
   "metadata": {},
   "source": [
    "**TEST Step 4:** run the win_check function against our test_board - it should return True"
   ]
  },
  {
   "cell_type": "code",
   "execution_count": 11,
   "metadata": {},
   "outputs": [
    {
     "name": "stdout",
     "output_type": "stream",
     "text": [
      "   |   |   \n",
      " X | $ | X\n",
      "   |   |   \n",
      "-----------\n",
      "   |   |   \n",
      " O | X | O\n",
      "   |   |   \n",
      "-----------\n",
      "   |   |   \n",
      " X | O | X\n",
      "   |   |   \n"
     ]
    },
    {
     "data": {
      "text/plain": [
       "True"
      ]
     },
     "execution_count": 11,
     "metadata": {},
     "output_type": "execute_result"
    }
   ],
   "source": [
    "display_board(test_board)\n",
    "win_check(test_board, 'X')"
   ]
  },
  {
   "cell_type": "markdown",
   "metadata": {},
   "source": [
    "**Step 5: Write a function that uses the random module to randomly decide which player goes first. You may want to lookup random.randint() Return a string of which player went first.**"
   ]
  },
  {
   "cell_type": "code",
   "execution_count": 12,
   "metadata": {},
   "outputs": [],
   "source": [
    "import random\n",
    "\n",
    "\n",
    "def choose_first():\n",
    "\tflip = random.randint(0, 1)\n",
    "\n",
    "\tif flip == 0:\n",
    "\t\treturn 'Player 1'\n",
    "\telse:\n",
    "\t\treturn 'Player 2'"
   ]
  },
  {
   "cell_type": "markdown",
   "metadata": {},
   "source": [
    "**Step 6: Write a function that returns a boolean indicating whether a space on the board is freely available.**"
   ]
  },
  {
   "cell_type": "code",
   "execution_count": 13,
   "metadata": {},
   "outputs": [],
   "source": [
    "def space_check(board, position):\n",
    "\treturn board[position] == ' '"
   ]
  },
  {
   "cell_type": "markdown",
   "metadata": {},
   "source": [
    "**Step 7: Write a function that checks if the board is full and returns a boolean value. True if full, False otherwise.**"
   ]
  },
  {
   "cell_type": "code",
   "execution_count": 14,
   "metadata": {},
   "outputs": [],
   "source": [
    "def full_board_check(board):\n",
    "\tfor position in range(1, 10):\n",
    "\t\tif space_check(board, position):\n",
    "\t\t\treturn False\n",
    "\n",
    "\treturn True"
   ]
  },
  {
   "cell_type": "markdown",
   "metadata": {},
   "source": [
    "**Step 8: Write a function that asks for a player's next position (as a number 1-9) and then uses the function from step 6 to check if it's a free position. If it is, then return the position for later use.**"
   ]
  },
  {
   "cell_type": "code",
   "execution_count": 15,
   "metadata": {},
   "outputs": [],
   "source": [
    "def player_choice(board):\n",
    "\tposition = 0\n",
    "\n",
    "\twhile position not in range(1, 10) or not space_check(board, position):\n",
    "\t\tposition = int(input('Choose a position: (1-9) '))\n",
    "\n",
    "\treturn position"
   ]
  },
  {
   "cell_type": "markdown",
   "metadata": {},
   "source": [
    "**Step 9: Write a function that asks the player if they want to play again and returns a boolean True if they do want to play again.**"
   ]
  },
  {
   "cell_type": "code",
   "execution_count": 16,
   "metadata": {},
   "outputs": [],
   "source": [
    "def replay():\n",
    "\tchoice = input('Play again? Enter Yes or No')\n",
    "\n",
    "\treturn choice.lower() == 'yes'"
   ]
  },
  {
   "cell_type": "markdown",
   "metadata": {
    "collapsed": true
   },
   "source": [
    "**Step 10: Here comes the hard part! Use while loops and the functions you've made to run the game!**"
   ]
  },
  {
   "cell_type": "code",
   "execution_count": 17,
   "metadata": {},
   "outputs": [
    {
     "name": "stdout",
     "output_type": "stream",
     "text": [
      "   |   |   \n",
      " O |   |  \n",
      "   |   |   \n",
      "-----------\n",
      "   |   |   \n",
      " X | O | X\n",
      "   |   |   \n",
      "-----------\n",
      "   |   |   \n",
      " O | X | O\n",
      "   |   |   \n",
      "Player 2 has won!\n",
      "Play again? Enter Yes or No8\n"
     ]
    }
   ],
   "source": [
    "print('Welcome to Tic Tac Toe!')\n",
    "\n",
    "while True:\n",
    "\t# Set the game up here\n",
    "\tthe_board = [' '] * 10\n",
    "\tplayer1_marker, player2_marker = player_input()\n",
    "\n",
    "\tturn = choose_first()\n",
    "\tprint(turn, 'will go first.')\n",
    "\n",
    "\tplay_game = input('Ready to play? (y/n) ')\n",
    "\tif play_game.lower() == 'y':\n",
    "\t\tgame_on = True\n",
    "\telse:\n",
    "\t\tgame_on = False\n",
    "\n",
    "\twhile game_on:\n",
    "\t\tif turn == 'Player 1':\n",
    "\t\t\tdisplay_board(the_board)\n",
    "\n",
    "\t\t\tposition = player_choice(the_board)\n",
    "\t\t\tplace_marker(the_board, player1_marker, position)\n",
    "\n",
    "\t\t\tif win_check(the_board, player1_marker):\n",
    "\t\t\t\tdisplay_board(the_board)\n",
    "\n",
    "\t\t\t\tprint(\"Player 1 has won!\")\n",
    "\t\t\t\tgame_on = False\n",
    "\t\t\telse:\n",
    "\t\t\t\tif full_board_check(the_board):\n",
    "\t\t\t\t\tdisplay_board(the_board)\n",
    "\t\t\t\t\tprint('Tie Game!')\n",
    "\t\t\t\t\tbreak\n",
    "\t\t\t\telse:\n",
    "\t\t\t\t\tturn = 'Player 2'\n",
    "\n",
    "\n",
    "\n",
    "\t\telse:\n",
    "\t\t\tdisplay_board(the_board)\n",
    "\n",
    "\t\t\tposition = player_choice(the_board)\n",
    "\t\t\tplace_marker(the_board, player2_marker, position)\n",
    "\n",
    "\t\t\tif win_check(the_board, player2_marker):\n",
    "\t\t\t\tdisplay_board(the_board)\n",
    "\n",
    "\t\t\t\tprint(\"Player 2 has won!\")\n",
    "\t\t\t\tgame_on = False\n",
    "\t\t\telse:\n",
    "\t\t\t\tif full_board_check(the_board):\n",
    "\t\t\t\t\tdisplay_board(the_board)\n",
    "\t\t\t\t\tprint('Tie Game!')\n",
    "\t\t\t\t\tbreak\n",
    "\t\t\t\telse:\n",
    "\t\t\t\t\tturn = 'Player 1'\n",
    "\n",
    "\tif not replay():\n",
    "\t\tbreak"
   ]
  },
  {
   "cell_type": "markdown",
   "metadata": {
    "collapsed": true
   },
   "source": [
    "## Good Job!"
   ]
  }
 ],
 "metadata": {
  "kernelspec": {
   "display_name": "Python 3 (ipykernel)",
   "language": "python",
   "name": "python3"
  },
  "language_info": {
   "codemirror_mode": {
    "name": "ipython",
    "version": 3
   },
   "file_extension": ".py",
   "mimetype": "text/x-python",
   "name": "python",
   "nbconvert_exporter": "python",
   "pygments_lexer": "ipython3",
   "version": "3.9.7"
  }
 },
 "nbformat": 4,
 "nbformat_minor": 1
}