{
 "cells": [
  {
   "cell_type": "markdown",
   "metadata": {},
   "source": [
    "___\n",
    "\n",
    "![alt](pierian-data-logo.png)\n",
    "___\n",
    "<center><em>Content Copyright by Pierian Data</em></center>"
   ]
  },
  {
   "cell_type": "markdown",
   "metadata": {},
   "source": [
    "# Guessing Game Challenge\n",
    "\n",
    "Let's use `while` loops to create a guessing game.\n",
    "\n",
    "The Challenge:\n",
    "\n",
    "Write a program that picks a random integer from 1 to 100, and has players guess the number. The rules are:\n",
    "\n",
    "1. If a player's guess is less than 1 or greater than 100, say \"OUT OF BOUNDS\"\n",
    "2. On a player's first turn, if their guess is\n",
    " * within 10 of the number, return \"WARM!\"\n",
    " * further than 10 away from the number, return \"COLD!\"\n",
    "3. On all subsequent turns, if a guess is \n",
    " * closer to the number than the previous guess return \"WARMER!\"\n",
    " * farther from the number than the previous guess, return \"COLDER!\"\n",
    "4. When the player's guess equals the number, tell them they've guessed correctly *and* how many guesses it took!\n",
    "\n",
    "You can try this from scratch, or follow the steps outlined below. A separate Solution notebook has been provided. Good luck!\n"
   ]
  },
  {
   "cell_type": "markdown",
   "metadata": {},
   "source": [
    "#### First, pick a random integer from 1 to 100 using the random module and assign it to a variable\n",
    "\n",
    "Note: `random.randint(a,b)` returns a random integer in range `[a, b]`, including both end points."
   ]
  },
  {
   "cell_type": "code",
   "execution_count": 1,
   "metadata": {},
   "outputs": [],
   "source": [
    "from random import randint"
   ]
  },
  {
   "cell_type": "code",
   "execution_count": 2,
   "metadata": {},
   "outputs": [],
   "source": [
    "secret_number = randint(1, 100)"
   ]
  },
  {
   "cell_type": "markdown",
   "metadata": {},
   "source": [
    "#### Next, print an introduction to the game and explain the rules"
   ]
  },
  {
   "cell_type": "code",
   "execution_count": 3,
   "metadata": {},
   "outputs": [
    {
     "name": "stdout",
     "output_type": "stream",
     "text": [
      "You should guess a number between 1 and 100 (do not enter outside of range!)\n"
     ]
    }
   ],
   "source": [
    "print('You should guess a number between 1 and 100 (do not enter outside of range!)')"
   ]
  },
  {
   "cell_type": "markdown",
   "metadata": {},
   "source": [
    "#### Create a list to store guesses\n",
    "\n",
    "Hint: zero is a good placeholder value. It's useful because it evaluates to \"False\""
   ]
  },
  {
   "cell_type": "code",
   "execution_count": 4,
   "metadata": {},
   "outputs": [],
   "source": [
    "guesses_list = []"
   ]
  },
  {
   "cell_type": "markdown",
   "metadata": {},
   "source": [
    "#### Write a `while` loop that asks for a valid guess. Test it a few times to make sure it works."
   ]
  },
  {
   "cell_type": "code",
   "execution_count": 5,
   "metadata": {},
   "outputs": [],
   "source": [
    "guess = 0"
   ]
  },
  {
   "cell_type": "markdown",
   "metadata": {},
   "source": [
    "#### Write a `while` loop that compares the player's guess to our number. If the player guesses correctly, break from the loop. Otherwise, tell the player if they're warmer or colder, and continue asking for guesses.\n",
    "\n",
    "Some hints:\n",
    "* it may help to sketch out all possible combinations on paper first!\n",
    "* you can use the `abs()` function to find the positive difference between two numbers\n",
    "* if you append all new guesses to the list, then the previous guess is given as `guesses[-2]`"
   ]
  },
  {
   "cell_type": "markdown",
   "metadata": {},
   "source": [
    "## Complete Program"
   ]
  },
  {
   "cell_type": "code",
   "execution_count": 3,
   "metadata": {},
   "outputs": [
    {
     "name": "stdout",
     "output_type": "stream",
     "text": [
      "You should guess a number between 1 to 100.\n",
      "Enter a number in range 1-100: -1\n",
      "\n",
      "OUT OF BOUNDS! try again.\n",
      "> -10\n",
      "\n",
      "OUT OF BOUNDS! try again.\n",
      "> 101\n",
      "\n",
      "OUT OF BOUNDS! try again.\n",
      "> 100\n",
      "COLD!\n",
      "Enter a number in range 1-100: 90\n",
      "WARMER!\n",
      "Enter a number in range 1-100: 80\n",
      "WARMER!\n",
      "Enter a number in range 1-100: 70\n",
      "WARMER!\n",
      "Enter a number in range 1-100: 60\n",
      "WARMER!\n",
      "Enter a number in range 1-100: 50\n",
      "WARMER!\n",
      "Enter a number in range 1-100: 40\n",
      "WARMER!\n",
      "Enter a number in range 1-100: 30\n",
      "WARMER!\n",
      "Enter a number in range 1-100: 20\n",
      "WARMER!\n",
      "Enter a number in range 1-100: 10\n",
      "WARMER!\n",
      "Enter a number in range 1-100: 5\n",
      "COLDER!\n",
      "Enter a number in range 1-100: 8\n",
      "WARMER!\n",
      "Enter a number in range 1-100: 9\n",
      "WARMER!\n",
      "Enter a number in range 1-100: 12\n",
      "WARMER!\n",
      "Enter a number in range 1-100: 17\n",
      "COLDER!\n",
      "Enter a number in range 1-100: 15\n",
      "WARMER!\n",
      "Enter a number in range 1-100: 13\n",
      "\n",
      "Congragulations! you successfully guessed the correct number (13)!\n",
      "You made 16 mistakes.\n"
     ]
    }
   ],
   "source": [
    "from random import randint\n",
    "\n",
    "print('You should guess a number between 1 to 100.')\n",
    "secret_number = randint(1, 100)\n",
    "guesses_list = []\n",
    "mistakes = 0\n",
    "\n",
    "number = int(input('Enter a number in range 1-100: '))\n",
    "while number < 1 or number > 100:\n",
    "    print('\\nOUT OF BOUNDS! try again.')\n",
    "    number = int(input('> '))\n",
    "    \n",
    "while number != secret_number:\n",
    "    if len(guesses_list) == 0:\n",
    "        if abs(secret_number - number) <= 10:\n",
    "            print('WARM!')\n",
    "        else:\n",
    "            print('COLD!')\n",
    "    else:\n",
    "        if abs(secret_number - number) <= abs(secret_number - guesses_list[-1]):\n",
    "            print('WARMER!')\n",
    "        else:\n",
    "            print('COLDER!')\n",
    "        \n",
    "    guesses_list.append(number)\n",
    "    mistakes += 1\n",
    "    \n",
    "    number = int(input('Enter a number in range 1-100: '))\n",
    "    while number < 1 or number > 100:\n",
    "        print('\\nOUT OF BOUNDS! try again.')\n",
    "        number = int(input('> '))\n",
    "        \n",
    "print('\\nCongragulations! you successfully guessed the correct number ({})!'.format(secret_number))\n",
    "print('You made {} mistakes.'.format(mistakes))"
   ]
  },
  {
   "cell_type": "markdown",
   "metadata": {},
   "source": [
    "That's it! You've just programmed your first game!\n",
    "\n",
    "In the next section we'll learn how to turn some of these repetitive actions into *functions* that can be called whenever we need them."
   ]
  },
  {
   "cell_type": "markdown",
   "metadata": {},
   "source": [
    "### Good Job!"
   ]
  }
 ],
 "metadata": {
  "kernelspec": {
   "display_name": "Python 3 (ipykernel)",
   "language": "python",
   "name": "python3"
  },
  "language_info": {
   "codemirror_mode": {
    "name": "ipython",
    "version": 3
   },
   "file_extension": ".py",
   "mimetype": "text/x-python",
   "name": "python",
   "nbconvert_exporter": "python",
   "pygments_lexer": "ipython3",
   "version": "3.9.7"
  }
 },
 "nbformat": 4,
 "nbformat_minor": 2
}
