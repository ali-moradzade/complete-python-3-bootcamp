{
 "cells": [
  {
   "cell_type": "markdown",
   "id": "d2b450d7",
   "metadata": {},
   "source": [
    "# Timing your Code - timeit"
   ]
  },
  {
   "cell_type": "code",
   "execution_count": 1,
   "id": "27506dbc",
   "metadata": {},
   "outputs": [],
   "source": [
    "import timeit"
   ]
  },
  {
   "cell_type": "code",
   "execution_count": 5,
   "id": "e4ce4dd3",
   "metadata": {},
   "outputs": [
    {
     "data": {
      "text/plain": [
       "'0-1-2-3-...-99'"
      ]
     },
     "execution_count": 5,
     "metadata": {},
     "output_type": "execute_result"
    }
   ],
   "source": [
    "'0-1-2-3-...-99'"
   ]
  },
  {
   "cell_type": "code",
   "execution_count": 4,
   "id": "ce218315",
   "metadata": {},
   "outputs": [
    {
     "data": {
      "text/plain": [
       "'0-1-2-3-4-5-6-7-8-9-10-11-12-13-14-15-16-17-18-19-20-21-22-23-24-25-26-27-28-29-30-31-32-33-34-35-36-37-38-39-40-41-42-43-44-45-46-47-48-49-50-51-52-53-54-55-56-57-58-59-60-61-62-63-64-65-66-67-68-69-70-71-72-73-74-75-76-77-78-79-80-81-82-83-84-85-86-87-88-89-90-91-92-93-94-95-96-97-98-99'"
      ]
     },
     "execution_count": 4,
     "metadata": {},
     "output_type": "execute_result"
    }
   ],
   "source": [
    "'-'.join(str(n) for n in range(100))"
   ]
  },
  {
   "cell_type": "code",
   "execution_count": 11,
   "id": "5e4b8857",
   "metadata": {},
   "outputs": [
    {
     "data": {
      "text/plain": [
       "0.00011374800033081556"
      ]
     },
     "execution_count": 11,
     "metadata": {},
     "output_type": "execute_result"
    }
   ],
   "source": [
    "timeit.timeit('-'.join(str(n) for n in range(100)), number=10000)"
   ]
  },
  {
   "cell_type": "code",
   "execution_count": 9,
   "id": "9847b8bf",
   "metadata": {},
   "outputs": [
    {
     "data": {
      "text/plain": [
       "0.00010085000030812807"
      ]
     },
     "execution_count": 9,
     "metadata": {},
     "output_type": "execute_result"
    }
   ],
   "source": [
    "timeit.timeit('-'.join([str(n) for n in range(100)]), number=10000)"
   ]
  },
  {
   "cell_type": "code",
   "execution_count": 12,
   "id": "da23e1c3",
   "metadata": {},
   "outputs": [
    {
     "data": {
      "text/plain": [
       "0.00021336499958124477"
      ]
     },
     "execution_count": 12,
     "metadata": {},
     "output_type": "execute_result"
    }
   ],
   "source": [
    "timeit.timeit('-'.join(map(str, range(100))), number=10000)"
   ]
  },
  {
   "cell_type": "code",
   "execution_count": 2,
   "id": "74fe3194",
   "metadata": {},
   "outputs": [
    {
     "name": "stdout",
     "output_type": "stream",
     "text": [
      "14.7 µs ± 217 ns per loop (mean ± std. dev. of 7 runs, 100000 loops each)\n"
     ]
    }
   ],
   "source": [
    "%timeit '-'.join(str(n) for n in range(100))"
   ]
  },
  {
   "cell_type": "code",
   "execution_count": 3,
   "id": "2e58f68c",
   "metadata": {},
   "outputs": [
    {
     "name": "stdout",
     "output_type": "stream",
     "text": [
      "16.1 µs ± 76.9 ns per loop (mean ± std. dev. of 7 runs, 100000 loops each)\n"
     ]
    }
   ],
   "source": [
    "%timeit ['-'.join(str(n) for n in range(100))]"
   ]
  },
  {
   "cell_type": "code",
   "execution_count": 5,
   "id": "8eb26a2e",
   "metadata": {},
   "outputs": [
    {
     "name": "stdout",
     "output_type": "stream",
     "text": [
      "11.7 µs ± 193 ns per loop (mean ± std. dev. of 7 runs, 100000 loops each)\n"
     ]
    }
   ],
   "source": [
    "%timeit '-'.join(map(str, range(100)))"
   ]
  }
 ],
 "metadata": {
  "kernelspec": {
   "display_name": "Python 3 (ipykernel)",
   "language": "python",
   "name": "python3"
  },
  "language_info": {
   "codemirror_mode": {
    "name": "ipython",
    "version": 3
   },
   "file_extension": ".py",
   "mimetype": "text/x-python",
   "name": "python",
   "nbconvert_exporter": "python",
   "pygments_lexer": "ipython3",
   "version": "3.9.7"
  }
 },
 "nbformat": 4,
 "nbformat_minor": 5
}
