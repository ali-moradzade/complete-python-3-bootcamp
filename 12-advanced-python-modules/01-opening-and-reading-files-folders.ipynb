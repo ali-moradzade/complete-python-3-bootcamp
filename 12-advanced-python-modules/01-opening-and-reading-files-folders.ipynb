{
 "cells": [
  {
   "cell_type": "markdown",
   "metadata": {},
   "source": [
    "___\n",
    "\n",
    "![alt](pierian-data-logo.png)\n",
    "___\n",
    "<center><em>Content Copyright by Pierian Data</em></center>"
   ]
  },
  {
   "cell_type": "markdown",
   "metadata": {},
   "source": [
    "# Opening and Reading Files\n",
    "\n",
    "So far we've discussed how to open files manually, one by one. Let's explore how we can open files programatically. "
   ]
  },
  {
   "cell_type": "markdown",
   "metadata": {
    "collapsed": true
   },
   "source": [
    "_____"
   ]
  },
  {
   "cell_type": "markdown",
   "metadata": {},
   "source": [
    "### Review: Understanding File Paths"
   ]
  },
  {
   "cell_type": "code",
   "execution_count": 1,
   "metadata": {},
   "outputs": [
    {
     "data": {
      "text/plain": [
       "'/home/ali/works/zero-to-hero/12-advanced-python-modules'"
      ]
     },
     "execution_count": 1,
     "metadata": {},
     "output_type": "execute_result"
    }
   ],
   "source": [
    "pwd"
   ]
  },
  {
   "cell_type": "markdown",
   "metadata": {},
   "source": [
    "### Create Practice File\n",
    "\n",
    "We will begin by creating a practice text file that we will be using for demonstration."
   ]
  },
  {
   "cell_type": "code",
   "execution_count": 6,
   "metadata": {},
   "outputs": [],
   "source": [
    "f = open('practice.txt','w+')"
   ]
  },
  {
   "cell_type": "code",
   "execution_count": 7,
   "metadata": {},
   "outputs": [],
   "source": [
    "f.write('test')\n",
    "f.close()"
   ]
  },
  {
   "cell_type": "code",
   "execution_count": 20,
   "metadata": {},
   "outputs": [],
   "source": [
    "with open('practice.txt', 'w+') as f:\n",
    "    f.write('test!')"
   ]
  },
  {
   "cell_type": "markdown",
   "metadata": {},
   "source": [
    "### Getting Directories\n",
    "\n",
    "Python has a built-in [os module](https://docs.python.org/3/library/os.html) that allows us to use operating system dependent functionality.\n",
    "\n",
    "You can get the current directory:"
   ]
  },
  {
   "cell_type": "code",
   "execution_count": 9,
   "metadata": {},
   "outputs": [],
   "source": [
    "import os"
   ]
  },
  {
   "cell_type": "code",
   "execution_count": 11,
   "metadata": {},
   "outputs": [
    {
     "data": {
      "text/plain": [
       "'/home/ali/works/zero-to-hero/12-advanced-python-modules'"
      ]
     },
     "execution_count": 11,
     "metadata": {},
     "output_type": "execute_result"
    }
   ],
   "source": [
    "os.getcwd()"
   ]
  },
  {
   "cell_type": "markdown",
   "metadata": {},
   "source": [
    "### Listing Files in a Directory\n",
    "\n",
    "You can also use the os module to list directories."
   ]
  },
  {
   "cell_type": "code",
   "execution_count": 13,
   "metadata": {},
   "outputs": [
    {
     "data": {
      "text/plain": [
       "['05-overview-of-regular-expressions.ipynb',\n",
       " 'example-top-level',\n",
       " '04-python-debugger-pdb.ipynb',\n",
       " 'practice.txt',\n",
       " '06-timing-your-code-timeit.ipynb',\n",
       " '.ipynb_checkpoints',\n",
       " 'pierian-data-logo.png',\n",
       " '08-advanced-python-module-exercise',\n",
       " '01-opening-and-reading-files-folders.ipynb',\n",
       " '00-collections-module.ipynb',\n",
       " '02-datetime-module.ipynb',\n",
       " '03-math-and-random-module.ipynb',\n",
       " '07-unzipping-and-zipping-files.ipynb']"
      ]
     },
     "execution_count": 13,
     "metadata": {},
     "output_type": "execute_result"
    }
   ],
   "source": [
    "# In your current directory\n",
    "os.listdir()"
   ]
  },
  {
   "cell_type": "code",
   "execution_count": 16,
   "metadata": {},
   "outputs": [
    {
     "data": {
      "text/plain": [
       "['11-python-generators-snippets',\n",
       " '10-python-decorators-snippets',\n",
       " '10-python-decorators',\n",
       " '03-methods-and-functions-snippets',\n",
       " 'summary',\n",
       " '16-emailing-with-python',\n",
       " '05-object-oriented-programming-snippets',\n",
       " '17-advanced-python-objects-and-data-structures',\n",
       " '14-working-with-images',\n",
       " '.gitignore',\n",
       " '11-python-generators',\n",
       " '07-errors-and-exception-handling',\n",
       " 'change-logo-path',\n",
       " '01-python-comparison-operators',\n",
       " '04-milestone-project-1',\n",
       " '12-advanced-python-modules',\n",
       " '08-milestone-project-2',\n",
       " '06-modules-and-packages-snippets',\n",
       " '12-advanced-python-modules-snippets',\n",
       " '02-python-statements',\n",
       " '.git',\n",
       " '.ipynb_checkpoints',\n",
       " 'pierian-data-logo.png',\n",
       " 'README.md',\n",
       " 'get-summary',\n",
       " '00-python-object-and-data-structure-basics',\n",
       " '.idea',\n",
       " '01-python-comparison-operators-snippets',\n",
       " '07-errors-and-exception-handling-snippets',\n",
       " '05-object-oriented-programming',\n",
       " '02-python-statements-snippets',\n",
       " '09-empty-section-skip',\n",
       " '18-milestone-project-3',\n",
       " '13-web-scraping',\n",
       " '15-pdfs-and-spreadsheets',\n",
       " '06-modules-and-packages',\n",
       " '19-bonus-material-introduction-to-guis',\n",
       " '03-methods-and-functions']"
      ]
     },
     "execution_count": 16,
     "metadata": {},
     "output_type": "execute_result"
    }
   ],
   "source": [
    "# In any directory you pass\n",
    "os.listdir(\"/home/ali/works/zero-to-hero/\")"
   ]
  },
  {
   "cell_type": "markdown",
   "metadata": {
    "collapsed": true
   },
   "source": [
    "### Moving Files \n",
    "\n",
    "You can use the built-in **shutil** module to to move files to different locations. Keep in mind, there are permission restrictions, for example if you are logged in a User A, you won't be able to make changes to the top level Users folder without the proper permissions, [more info](https://stackoverflow.com/questions/23253439/shutil-movescr-dst-gets-me-ioerror-errno-13-permission-denied-and-3-more-e)"
   ]
  },
  {
   "cell_type": "code",
   "execution_count": 17,
   "metadata": {},
   "outputs": [],
   "source": [
    "import shutil"
   ]
  },
  {
   "cell_type": "code",
   "execution_count": 25,
   "metadata": {},
   "outputs": [
    {
     "data": {
      "text/plain": [
       "'practice-changed-name.txt'"
      ]
     },
     "execution_count": 25,
     "metadata": {},
     "output_type": "execute_result"
    }
   ],
   "source": [
    "shutil.move('practice.txt','practice-changed-name.txt')"
   ]
  },
  {
   "cell_type": "code",
   "execution_count": 26,
   "metadata": {},
   "outputs": [
    {
     "data": {
      "text/plain": [
       "'practice.txt'"
      ]
     },
     "execution_count": 26,
     "metadata": {},
     "output_type": "execute_result"
    }
   ],
   "source": [
    "shutil.move('practice-changed-name.txt', 'practice.txt')"
   ]
  },
  {
   "cell_type": "code",
   "execution_count": 27,
   "metadata": {},
   "outputs": [
    {
     "data": {
      "text/plain": [
       "['05-overview-of-regular-expressions.ipynb',\n",
       " 'example-top-level',\n",
       " '04-python-debugger-pdb.ipynb',\n",
       " 'practice.txt',\n",
       " '06-timing-your-code-timeit.ipynb',\n",
       " '.ipynb_checkpoints',\n",
       " 'pierian-data-logo.png',\n",
       " '08-advanced-python-module-exercise',\n",
       " '01-opening-and-reading-files-folders.ipynb',\n",
       " '00-collections-module.ipynb',\n",
       " '02-datetime-module.ipynb',\n",
       " '03-math-and-random-module.ipynb',\n",
       " '07-unzipping-and-zipping-files.ipynb']"
      ]
     },
     "execution_count": 27,
     "metadata": {},
     "output_type": "execute_result"
    }
   ],
   "source": [
    "os.listdir()"
   ]
  },
  {
   "cell_type": "code",
   "execution_count": 32,
   "metadata": {},
   "outputs": [
    {
     "data": {
      "text/plain": [
       "'/home/ali/works/zero-to-hero/12-advanced-python-modules/README.md'"
      ]
     },
     "execution_count": 32,
     "metadata": {},
     "output_type": "execute_result"
    }
   ],
   "source": [
    "shutil.move('../README.md', os.getcwd())"
   ]
  },
  {
   "cell_type": "code",
   "execution_count": 33,
   "metadata": {},
   "outputs": [
    {
     "data": {
      "text/plain": [
       "'../README.md'"
      ]
     },
     "execution_count": 33,
     "metadata": {},
     "output_type": "execute_result"
    }
   ],
   "source": [
    "shutil.copy('README.md', '../')"
   ]
  },
  {
   "cell_type": "code",
   "execution_count": 34,
   "metadata": {},
   "outputs": [
    {
     "data": {
      "text/plain": [
       "['05-overview-of-regular-expressions.ipynb',\n",
       " 'example-top-level',\n",
       " '04-python-debugger-pdb.ipynb',\n",
       " 'practice.txt',\n",
       " '06-timing-your-code-timeit.ipynb',\n",
       " '.ipynb_checkpoints',\n",
       " 'pierian-data-logo.png',\n",
       " 'README.md',\n",
       " '08-advanced-python-module-exercise',\n",
       " '01-opening-and-reading-files-folders.ipynb',\n",
       " '00-collections-module.ipynb',\n",
       " '02-datetime-module.ipynb',\n",
       " '03-math-and-random-module.ipynb',\n",
       " '07-unzipping-and-zipping-files.ipynb']"
      ]
     },
     "execution_count": 34,
     "metadata": {},
     "output_type": "execute_result"
    }
   ],
   "source": [
    "os.listdir()"
   ]
  },
  {
   "cell_type": "markdown",
   "metadata": {},
   "source": [
    "### Deleting Files\n",
    "____\n",
    "**NOTE: The os module provides 3 methods for deleting files:**\n",
    "* os.unlink(path) which deletes a file at the path your provide\n",
    "* os.rmdir(path) which deletes a folder (folder must be empty) at the path your provide\n",
    "* shutil.rmtree(path) this is the most dangerous, as it will remove all files and folders contained in the path.\n",
    "**All of these methods can not be reversed! Which means if you make a mistake you won't be able to recover the file. Instead we will use the send2trash module. A safer alternative that sends deleted files to the trash bin instead of permanent removal.**\n",
    "___\n",
    "\n",
    "Install the send2trash module with:\n",
    "\n",
    "    pip install send2trash\n",
    "    \n",
    "at your command line."
   ]
  },
  {
   "cell_type": "code",
   "execution_count": 35,
   "metadata": {},
   "outputs": [],
   "source": [
    "import send2trash"
   ]
  },
  {
   "cell_type": "code",
   "execution_count": 36,
   "metadata": {},
   "outputs": [
    {
     "data": {
      "text/plain": [
       "['05-overview-of-regular-expressions.ipynb',\n",
       " 'example-top-level',\n",
       " '04-python-debugger-pdb.ipynb',\n",
       " 'practice.txt',\n",
       " '06-timing-your-code-timeit.ipynb',\n",
       " '.ipynb_checkpoints',\n",
       " 'pierian-data-logo.png',\n",
       " 'README.md',\n",
       " '08-advanced-python-module-exercise',\n",
       " '01-opening-and-reading-files-folders.ipynb',\n",
       " '00-collections-module.ipynb',\n",
       " '02-datetime-module.ipynb',\n",
       " '03-math-and-random-module.ipynb',\n",
       " '07-unzipping-and-zipping-files.ipynb']"
      ]
     },
     "execution_count": 36,
     "metadata": {},
     "output_type": "execute_result"
    }
   ],
   "source": [
    "os.listdir()"
   ]
  },
  {
   "cell_type": "code",
   "execution_count": 37,
   "metadata": {},
   "outputs": [],
   "source": [
    "send2trash.send2trash('practice.txt')"
   ]
  },
  {
   "cell_type": "code",
   "execution_count": 38,
   "metadata": {},
   "outputs": [
    {
     "data": {
      "text/plain": [
       "['05-overview-of-regular-expressions.ipynb',\n",
       " 'example-top-level',\n",
       " '04-python-debugger-pdb.ipynb',\n",
       " '06-timing-your-code-timeit.ipynb',\n",
       " '.ipynb_checkpoints',\n",
       " 'pierian-data-logo.png',\n",
       " 'README.md',\n",
       " '08-advanced-python-module-exercise',\n",
       " '01-opening-and-reading-files-folders.ipynb',\n",
       " '00-collections-module.ipynb',\n",
       " '02-datetime-module.ipynb',\n",
       " '03-math-and-random-module.ipynb',\n",
       " '07-unzipping-and-zipping-files.ipynb']"
      ]
     },
     "execution_count": 38,
     "metadata": {},
     "output_type": "execute_result"
    }
   ],
   "source": [
    "os.listdir()"
   ]
  },
  {
   "cell_type": "markdown",
   "metadata": {},
   "source": [
    "### Walking through a directory\n",
    "\n",
    "Often you will just need to \"walk\" through a directory, that is visit every file or folder and check to see if a file is in the directory, and then perhaps do something with that file. Usually recursively walking through every file and folder in a directory would be quite tricky to program, but luckily the os module has a direct method call for this called os.walk(). Let's explore how it works."
   ]
  },
  {
   "cell_type": "code",
   "execution_count": 39,
   "metadata": {},
   "outputs": [
    {
     "data": {
      "text/plain": [
       "'/home/ali/works/zero-to-hero/12-advanced-python-modules'"
      ]
     },
     "execution_count": 39,
     "metadata": {},
     "output_type": "execute_result"
    }
   ],
   "source": [
    "os.getcwd()"
   ]
  },
  {
   "cell_type": "code",
   "execution_count": 40,
   "metadata": {},
   "outputs": [
    {
     "data": {
      "text/plain": [
       "['05-overview-of-regular-expressions.ipynb',\n",
       " 'example-top-level',\n",
       " '04-python-debugger-pdb.ipynb',\n",
       " '06-timing-your-code-timeit.ipynb',\n",
       " '.ipynb_checkpoints',\n",
       " 'pierian-data-logo.png',\n",
       " 'README.md',\n",
       " '08-advanced-python-module-exercise',\n",
       " '01-opening-and-reading-files-folders.ipynb',\n",
       " '00-collections-module.ipynb',\n",
       " '02-datetime-module.ipynb',\n",
       " '03-math-and-random-module.ipynb',\n",
       " '07-unzipping-and-zipping-files.ipynb']"
      ]
     },
     "execution_count": 40,
     "metadata": {},
     "output_type": "execute_result"
    }
   ],
   "source": [
    "os.listdir()"
   ]
  },
  {
   "cell_type": "code",
   "execution_count": 48,
   "metadata": {},
   "outputs": [
    {
     "name": "stdout",
     "output_type": "stream",
     "text": [
      "Currently looking at folder: example-top-level\n",
      "THE SUBFOLDERS ARE: \n",
      "\t Subfolder: mid-example-one\n",
      "THE FILES ARE: \n",
      "\t File: mid-example.txt\n",
      "\n",
      "Currently looking at folder: example-top-level/mid-example-one\n",
      "THE SUBFOLDERS ARE: \n",
      "\t Subfolder: bottom-level-one\n",
      "\t Subfolder: bottom-level-two\n",
      "THE FILES ARE: \n",
      "\t File: mid-level-doc.txt\n",
      "\n",
      "Currently looking at folder: example-top-level/mid-example-one/bottom-level-one\n",
      "THE SUBFOLDERS ARE: \n",
      "THE FILES ARE: \n",
      "\t File: one-text.txt\n",
      "\n",
      "Currently looking at folder: example-top-level/mid-example-one/bottom-level-two\n",
      "THE SUBFOLDERS ARE: \n",
      "THE FILES ARE: \n",
      "\t File: bottom-text-two.txt\n",
      "\n"
     ]
    }
   ],
   "source": [
    "for folder, sub_folders, files in os.walk(\"example-top-level\"):\n",
    "    \n",
    "    print(\"Currently looking at folder: \"+ folder)\n",
    "    \n",
    "    print(\"THE SUBFOLDERS ARE: \")\n",
    "    for sub_fold in sub_folders:\n",
    "        print(\"\\t Subfolder: \" + sub_fold )\n",
    "    \n",
    "    print(\"THE FILES ARE: \")\n",
    "    for f in files:\n",
    "        print(\"\\t File: \"+f)\n",
    "    print()\n",
    "    # Now look at subfolders"
   ]
  },
  {
   "cell_type": "markdown",
   "metadata": {
    "collapsed": true
   },
   "source": [
    "___\n",
    "Excellent, you should now be aware of how to work with a computer's files and folders in whichever directory they are in. Remember that the `os` module works for any oeprating system that supports Python, which means these commands will work across Linux, MacOs, or Windows without need for adjustment."
   ]
  }
 ],
 "metadata": {
  "anaconda-cloud": {},
  "kernelspec": {
   "display_name": "Python 3 (ipykernel)",
   "language": "python",
   "name": "python3"
  },
  "language_info": {
   "codemirror_mode": {
    "name": "ipython",
    "version": 3
   },
   "file_extension": ".py",
   "mimetype": "text/x-python",
   "name": "python",
   "nbconvert_exporter": "python",
   "pygments_lexer": "ipython3",
   "version": "3.9.7"
  }
 },
 "nbformat": 4,
 "nbformat_minor": 2
}
