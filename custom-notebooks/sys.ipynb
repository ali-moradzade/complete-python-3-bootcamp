{
 "cells": [
  {
   "cell_type": "markdown",
   "id": "dad5118c",
   "metadata": {},
   "source": [
    "# Python sys Module\n",
    "[Geeks for Geeks](https://www.geeksforgeeks.org/python-sys-module/)"
   ]
  },
  {
   "cell_type": "code",
   "execution_count": 1,
   "id": "4e2369b5",
   "metadata": {},
   "outputs": [],
   "source": [
    "import sys"
   ]
  },
  {
   "cell_type": "code",
   "execution_count": 4,
   "id": "ca4b4711",
   "metadata": {},
   "outputs": [
    {
     "name": "stdout",
     "output_type": "stream",
     "text": [
      "3.9.7 (default, Sep 16 2021, 13:09:58) \n",
      "[GCC 7.5.0]\n"
     ]
    }
   ],
   "source": [
    "print(sys.version)"
   ]
  },
  {
   "cell_type": "markdown",
   "id": "b1620dbb",
   "metadata": {},
   "source": [
    "## Input and Output using sys"
   ]
  },
  {
   "cell_type": "markdown",
   "id": "995fc8d9",
   "metadata": {},
   "source": [
    "### stdin\n",
    "It can be used to get input from the command line directly. It used is for standard input. It internally calls the `input()` method. It, also, automatically adds ‘\\n’ after each sentence."
   ]
  },
  {
   "cell_type": "code",
   "execution_count": 8,
   "id": "dc90ccf8",
   "metadata": {},
   "outputs": [
    {
     "name": "stdout",
     "output_type": "stream",
     "text": [
      "Exit\n"
     ]
    }
   ],
   "source": [
    "for line in sys.stdin:\n",
    "    if 'q' == line.rstrip():\n",
    "        break\n",
    "    print(f'Input : {line}')\n",
    " \n",
    "print(\"Exit\")"
   ]
  },
  {
   "cell_type": "markdown",
   "id": "06a0fa2a",
   "metadata": {},
   "source": [
    "### stdout"
   ]
  },
  {
   "cell_type": "code",
   "execution_count": 13,
   "id": "9d741da0",
   "metadata": {},
   "outputs": [
    {
     "name": "stdout",
     "output_type": "stream",
     "text": [
      "Geeks"
     ]
    },
    {
     "data": {
      "text/plain": [
       "5"
      ]
     },
     "execution_count": 13,
     "metadata": {},
     "output_type": "execute_result"
    }
   ],
   "source": [
    "sys.stdout.write('Geeks')"
   ]
  }
 ],
 "metadata": {
  "kernelspec": {
   "display_name": "Python 3 (ipykernel)",
   "language": "python",
   "name": "python3"
  },
  "language_info": {
   "codemirror_mode": {
    "name": "ipython",
    "version": 3
   },
   "file_extension": ".py",
   "mimetype": "text/x-python",
   "name": "python",
   "nbconvert_exporter": "python",
   "pygments_lexer": "ipython3",
   "version": "3.9.7"
  }
 },
 "nbformat": 4,
 "nbformat_minor": 5
}
