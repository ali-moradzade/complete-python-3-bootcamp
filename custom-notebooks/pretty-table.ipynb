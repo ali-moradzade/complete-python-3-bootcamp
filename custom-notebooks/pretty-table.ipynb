{
 "cells": [
  {
   "cell_type": "markdown",
   "id": "32f5398c",
   "metadata": {},
   "source": [
    "# Pretty print the tables with prettytable"
   ]
  },
  {
   "cell_type": "markdown",
   "id": "4518a6e0",
   "metadata": {},
   "source": [
    "## Creating Tables with PrettyTable\n",
    "[Geeks for Geeks](https://www.geeksforgeeks.org/creating-tables-with-prettytable-library-python/)"
   ]
  },
  {
   "cell_type": "code",
   "execution_count": 3,
   "id": "85070f61",
   "metadata": {},
   "outputs": [],
   "source": [
    "from prettytable import PrettyTable"
   ]
  },
  {
   "cell_type": "markdown",
   "id": "c38c5c6b",
   "metadata": {},
   "source": [
    "### Creating the Table: Row-Wise"
   ]
  },
  {
   "cell_type": "code",
   "execution_count": 4,
   "id": "24929de5",
   "metadata": {},
   "outputs": [],
   "source": [
    "# Specify the Column Names while initializing the Table\n",
    "myTable = PrettyTable([\"Student Name\", \"Class\", \"Section\", \"Percentage\"])"
   ]
  },
  {
   "cell_type": "code",
   "execution_count": 5,
   "id": "7ae4a83a",
   "metadata": {},
   "outputs": [],
   "source": [
    "# Add rows\n",
    "myTable.add_row([\"Leanord\", \"X\", \"B\", \"91.2 %\"])\n",
    "myTable.add_row([\"Penny\", \"X\", \"C\", \"63.5 %\"])\n",
    "myTable.add_row([\"Howard\", \"X\", \"A\", \"90.23 %\"])\n",
    "myTable.add_row([\"Bernadette\", \"X\", \"D\", \"92.7 %\"])\n",
    "myTable.add_row([\"Sheldon\", \"X\", \"A\", \"98.2 %\"])\n",
    "myTable.add_row([\"Raj\", \"X\", \"B\", \"88.1 %\"])\n",
    "myTable.add_row([\"Amy\", \"X\", \"B\", \"95.0 %\"])"
   ]
  },
  {
   "cell_type": "code",
   "execution_count": 8,
   "id": "35378ce7",
   "metadata": {},
   "outputs": [
    {
     "name": "stdout",
     "output_type": "stream",
     "text": [
      "+--------------+-------+---------+------------+\n",
      "| Student Name | Class | Section | Percentage |\n",
      "+--------------+-------+---------+------------+\n",
      "|   Leanord    |   X   |    B    |   91.2 %   |\n",
      "|    Penny     |   X   |    C    |   63.5 %   |\n",
      "|    Howard    |   X   |    A    |  90.23 %   |\n",
      "|  Bernadette  |   X   |    D    |   92.7 %   |\n",
      "|   Sheldon    |   X   |    A    |   98.2 %   |\n",
      "|     Raj      |   X   |    B    |   88.1 %   |\n",
      "|     Amy      |   X   |    B    |   95.0 %   |\n",
      "+--------------+-------+---------+------------+\n"
     ]
    }
   ],
   "source": [
    "print(myTable)"
   ]
  },
  {
   "cell_type": "markdown",
   "id": "0ce2430f",
   "metadata": {},
   "source": [
    "### Creating the Table: Column-Wise"
   ]
  },
  {
   "cell_type": "code",
   "execution_count": 21,
   "id": "c52a9108",
   "metadata": {},
   "outputs": [],
   "source": [
    "columns = [\"Student Name\", \"Class\", \"Section\", \"Percentage\"]"
   ]
  },
  {
   "cell_type": "code",
   "execution_count": 22,
   "id": "64fee5cb",
   "metadata": {},
   "outputs": [],
   "source": [
    "myTable = PrettyTable()"
   ]
  },
  {
   "cell_type": "code",
   "execution_count": 23,
   "id": "cf3a1e6f",
   "metadata": {},
   "outputs": [],
   "source": [
    "# Add Columns\n",
    "myTable.add_column(columns[0], [\"Leanord\", \"Penny\", \"Howard\",\n",
    "                       \"Bernadette\", \"Sheldon\", \"Raj\", \"Amy\"])\n",
    "myTable.add_column(columns[1], [\"X\", \"X\", \"X\", \"X\", \"X\", \"X\", \"X\"])\n",
    "myTable.add_column(columns[2], [\"B\", \"C\", \"A\", \"D\", \"A\", \"B\", \"B\"])\n",
    "myTable.add_column(columns[3], [\"91.2 %\", \"63.5 %\", \"90.23 %\", \"92.7 %\", \n",
    "                                          \"98.2 %\", \"88.1 %\", \"95.0 %\"])"
   ]
  },
  {
   "cell_type": "code",
   "execution_count": 24,
   "id": "a6e12f1d",
   "metadata": {},
   "outputs": [
    {
     "name": "stdout",
     "output_type": "stream",
     "text": [
      "+--------------+-------+---------+------------+\n",
      "| Student Name | Class | Section | Percentage |\n",
      "+--------------+-------+---------+------------+\n",
      "|   Leanord    |   X   |    B    |   91.2 %   |\n",
      "|    Penny     |   X   |    C    |   63.5 %   |\n",
      "|    Howard    |   X   |    A    |  90.23 %   |\n",
      "|  Bernadette  |   X   |    D    |   92.7 %   |\n",
      "|   Sheldon    |   X   |    A    |   98.2 %   |\n",
      "|     Raj      |   X   |    B    |   88.1 %   |\n",
      "|     Amy      |   X   |    B    |   95.0 %   |\n",
      "+--------------+-------+---------+------------+\n"
     ]
    }
   ],
   "source": [
    "print(myTable)"
   ]
  },
  {
   "cell_type": "markdown",
   "id": "c1622ae6",
   "metadata": {},
   "source": [
    "### Deleting Rows"
   ]
  },
  {
   "cell_type": "code",
   "execution_count": 25,
   "id": "998fe672",
   "metadata": {},
   "outputs": [],
   "source": [
    "myTable.del_row(0)"
   ]
  },
  {
   "cell_type": "code",
   "execution_count": 26,
   "id": "15611aa5",
   "metadata": {},
   "outputs": [
    {
     "name": "stdout",
     "output_type": "stream",
     "text": [
      "+--------------+-------+---------+------------+\n",
      "| Student Name | Class | Section | Percentage |\n",
      "+--------------+-------+---------+------------+\n",
      "|    Penny     |   X   |    C    |   63.5 %   |\n",
      "|    Howard    |   X   |    A    |  90.23 %   |\n",
      "|  Bernadette  |   X   |    D    |   92.7 %   |\n",
      "|   Sheldon    |   X   |    A    |   98.2 %   |\n",
      "|     Raj      |   X   |    B    |   88.1 %   |\n",
      "|     Amy      |   X   |    B    |   95.0 %   |\n",
      "+--------------+-------+---------+------------+\n"
     ]
    }
   ],
   "source": [
    "print(myTable)"
   ]
  },
  {
   "cell_type": "markdown",
   "id": "fa62f549",
   "metadata": {},
   "source": [
    "### Clearing the Table"
   ]
  },
  {
   "cell_type": "code",
   "execution_count": 27,
   "id": "543fb499",
   "metadata": {},
   "outputs": [],
   "source": [
    "myTable.clear_rows()"
   ]
  },
  {
   "cell_type": "code",
   "execution_count": 28,
   "id": "e4c497dd",
   "metadata": {},
   "outputs": [
    {
     "name": "stdout",
     "output_type": "stream",
     "text": [
      "+--------------+-------+---------+------------+\n",
      "| Student Name | Class | Section | Percentage |\n",
      "+--------------+-------+---------+------------+\n",
      "+--------------+-------+---------+------------+\n"
     ]
    }
   ],
   "source": [
    "print(myTable)"
   ]
  },
  {
   "cell_type": "markdown",
   "id": "b219cd6b",
   "metadata": {},
   "source": [
    "## Tutorial on how to use the PrettyTable API \n",
    "[github repo of the author](https://github.com/jazzband/prettytable)"
   ]
  },
  {
   "cell_type": "code",
   "execution_count": 31,
   "id": "c993ff55",
   "metadata": {},
   "outputs": [],
   "source": [
    "from prettytable import PrettyTable"
   ]
  },
  {
   "cell_type": "markdown",
   "id": "3fe93884",
   "metadata": {},
   "source": [
    "### Row by row"
   ]
  },
  {
   "cell_type": "code",
   "execution_count": 33,
   "id": "6f7afa12",
   "metadata": {},
   "outputs": [],
   "source": [
    "x = PrettyTable()\n",
    "x.field_names = [\"City name\", \"Area\", \"Population\", \"Annual Rainfall\"]\n",
    "x.add_row([\"Adelaide\", 1295, 1158259, 600.5])\n",
    "x.add_row([\"Brisbane\", 5905, 1857594, 1146.4])\n",
    "x.add_row([\"Darwin\", 112, 120900, 1714.7])\n",
    "x.add_row([\"Hobart\", 1357, 205556, 619.5])\n",
    "x.add_row([\"Sydney\", 2058, 4336374, 1214.8])\n",
    "x.add_row([\"Melbourne\", 1566, 3806092, 646.9])\n",
    "x.add_row([\"Perth\", 5386, 1554769, 869.4])"
   ]
  },
  {
   "cell_type": "code",
   "execution_count": 35,
   "id": "0a3c776b",
   "metadata": {},
   "outputs": [
    {
     "name": "stdout",
     "output_type": "stream",
     "text": [
      "+-----------+------+------------+-----------------+\n",
      "| City name | Area | Population | Annual Rainfall |\n",
      "+-----------+------+------------+-----------------+\n",
      "|  Adelaide | 1295 |  1158259   |      600.5      |\n",
      "|  Brisbane | 5905 |  1857594   |      1146.4     |\n",
      "|   Darwin  | 112  |   120900   |      1714.7     |\n",
      "|   Hobart  | 1357 |   205556   |      619.5      |\n",
      "|   Sydney  | 2058 |  4336374   |      1214.8     |\n",
      "| Melbourne | 1566 |  3806092   |      646.9      |\n",
      "|   Perth   | 5386 |  1554769   |      869.4      |\n",
      "+-----------+------+------------+-----------------+\n"
     ]
    }
   ],
   "source": [
    "print(x)"
   ]
  },
  {
   "cell_type": "markdown",
   "id": "975e177f",
   "metadata": {},
   "source": [
    "### All rows at once"
   ]
  },
  {
   "cell_type": "code",
   "execution_count": 37,
   "id": "9e5795c6",
   "metadata": {},
   "outputs": [],
   "source": [
    "x = PrettyTable()\n",
    "x.field_names = [\"City name\", \"Area\", \"Population\", \"Annual Rainfall\"]\n",
    "x.add_rows(\n",
    "    [\n",
    "        [\"Adelaide\", 1295, 1158259, 600.5],\n",
    "        [\"Brisbane\", 5905, 1857594, 1146.4],\n",
    "        [\"Darwin\", 112, 120900, 1714.7],\n",
    "        [\"Hobart\", 1357, 205556, 619.5],\n",
    "        [\"Sydney\", 2058, 4336374, 1214.8],\n",
    "        [\"Melbourne\", 1566, 3806092, 646.9],\n",
    "        [\"Perth\", 5386, 1554769, 869.4],\n",
    "    ]\n",
    ")"
   ]
  },
  {
   "cell_type": "code",
   "execution_count": 38,
   "id": "e6743660",
   "metadata": {},
   "outputs": [
    {
     "name": "stdout",
     "output_type": "stream",
     "text": [
      "+-----------+------+------------+-----------------+\n",
      "| City name | Area | Population | Annual Rainfall |\n",
      "+-----------+------+------------+-----------------+\n",
      "|  Adelaide | 1295 |  1158259   |      600.5      |\n",
      "|  Brisbane | 5905 |  1857594   |      1146.4     |\n",
      "|   Darwin  | 112  |   120900   |      1714.7     |\n",
      "|   Hobart  | 1357 |   205556   |      619.5      |\n",
      "|   Sydney  | 2058 |  4336374   |      1214.8     |\n",
      "| Melbourne | 1566 |  3806092   |      646.9      |\n",
      "|   Perth   | 5386 |  1554769   |      869.4      |\n",
      "+-----------+------+------------+-----------------+\n"
     ]
    }
   ],
   "source": [
    "print(x)"
   ]
  },
  {
   "cell_type": "markdown",
   "id": "9024df8a",
   "metadata": {},
   "source": [
    "### Column by column"
   ]
  },
  {
   "cell_type": "code",
   "execution_count": 40,
   "id": "0109212a",
   "metadata": {},
   "outputs": [],
   "source": [
    "x = PrettyTable()\n",
    "x.add_column(\"City name\",\n",
    "[\"Adelaide\",\"Brisbane\",\"Darwin\",\"Hobart\",\"Sydney\",\"Melbourne\",\"Perth\"])\n",
    "x.add_column(\"Area\", [1295, 5905, 112, 1357, 2058, 1566, 5386])\n",
    "x.add_column(\"Population\", [1158259, 1857594, 120900, 205556, 4336374, 3806092,\n",
    "1554769])\n",
    "x.add_column(\"Annual Rainfall\",[600.5, 1146.4, 1714.7, 619.5, 1214.8, 646.9,\n",
    "869.4])"
   ]
  },
  {
   "cell_type": "code",
   "execution_count": 42,
   "id": "4ab5c75d",
   "metadata": {},
   "outputs": [
    {
     "name": "stdout",
     "output_type": "stream",
     "text": [
      "+-----------+------+------------+-----------------+\n",
      "| City name | Area | Population | Annual Rainfall |\n",
      "+-----------+------+------------+-----------------+\n",
      "|  Adelaide | 1295 |  1158259   |      600.5      |\n",
      "|  Brisbane | 5905 |  1857594   |      1146.4     |\n",
      "|   Darwin  | 112  |   120900   |      1714.7     |\n",
      "|   Hobart  | 1357 |   205556   |      619.5      |\n",
      "|   Sydney  | 2058 |  4336374   |      1214.8     |\n",
      "| Melbourne | 1566 |  3806092   |      646.9      |\n",
      "|   Perth   | 5386 |  1554769   |      869.4      |\n",
      "+-----------+------+------------+-----------------+\n"
     ]
    }
   ],
   "source": [
    "print(x)"
   ]
  },
  {
   "cell_type": "markdown",
   "id": "2beb9143",
   "metadata": {},
   "source": [
    "### Importing data from a CSV file"
   ]
  },
  {
   "cell_type": "code",
   "execution_count": 49,
   "id": "30a3aef5",
   "metadata": {},
   "outputs": [],
   "source": [
    "from prettytable import from_csv"
   ]
  },
  {
   "cell_type": "code",
   "execution_count": 52,
   "id": "0a7f99a8",
   "metadata": {},
   "outputs": [],
   "source": [
    "with open(\"myfile.csv\") as fp:\n",
    "    mytable = from_csv(fp)"
   ]
  },
  {
   "cell_type": "code",
   "execution_count": 54,
   "id": "083fc702",
   "metadata": {},
   "outputs": [
    {
     "name": "stdout",
     "output_type": "stream",
     "text": [
      "+-----------+------+------------+-----------------+\n",
      "| City name | Area | Population | Annual Rainfall |\n",
      "+-----------+------+------------+-----------------+\n",
      "|  Adelaide | 1295 |  1158259   |      600.5      |\n",
      "|  Brisbane | 5905 |  1857594   |      1146.4     |\n",
      "|   Darwin  | 112  |   120900   |      1714.7     |\n",
      "|   Hobart  | 1357 |   205556   |      619.5      |\n",
      "|   Sydney  | 2058 |  4336374   |      1214.8     |\n",
      "| Melbourne | 1566 |  3806092   |      646.9      |\n",
      "|   Perth   | 5386 |  1554769   |      869.4      |\n",
      "+-----------+------+------------+-----------------+\n"
     ]
    }
   ],
   "source": [
    "print(mytable)"
   ]
  },
  {
   "cell_type": "markdown",
   "id": "87c3c841",
   "metadata": {},
   "source": [
    "### Stringing"
   ]
  },
  {
   "cell_type": "code",
   "execution_count": 59,
   "id": "10df445a",
   "metadata": {},
   "outputs": [
    {
     "name": "stdout",
     "output_type": "stream",
     "text": [
      "+-----------+------+------------+-----------------+\n",
      "| City name | Area | Population | Annual Rainfall |\n",
      "+-----------+------+------------+-----------------+\n",
      "|  Adelaide | 1295 |  1158259   |      600.5      |\n",
      "|  Brisbane | 5905 |  1857594   |      1146.4     |\n",
      "|   Darwin  | 112  |   120900   |      1714.7     |\n",
      "|   Hobart  | 1357 |   205556   |      619.5      |\n",
      "|   Sydney  | 2058 |  4336374   |      1214.8     |\n",
      "| Melbourne | 1566 |  3806092   |      646.9      |\n",
      "|   Perth   | 5386 |  1554769   |      869.4      |\n",
      "+-----------+------+------------+-----------------+\n"
     ]
    }
   ],
   "source": [
    "mystring = x.get_string()\n",
    "print(mystring)"
   ]
  },
  {
   "cell_type": "code",
   "execution_count": 61,
   "id": "7056d95a",
   "metadata": {},
   "outputs": [
    {
     "name": "stdout",
     "output_type": "stream",
     "text": [
      "City name,Area,Population,Annual Rainfall\r\n",
      "Adelaide,1295,1158259,600.5\r\n",
      "Brisbane,5905,1857594,1146.4\r\n",
      "Darwin,112,120900,1714.7\r\n",
      "Hobart,1357,205556,619.5\r\n",
      "Sydney,2058,4336374,1214.8\r\n",
      "Melbourne,1566,3806092,646.9\r\n",
      "Perth,5386,1554769,869.4\r\n",
      "\n"
     ]
    }
   ],
   "source": [
    "mystring = x.get_csv_string()\n",
    "print(mystring)"
   ]
  },
  {
   "cell_type": "code",
   "execution_count": 64,
   "id": "13273ce7",
   "metadata": {},
   "outputs": [
    {
     "name": "stdout",
     "output_type": "stream",
     "text": [
      "[\n",
      "    [\n",
      "        \"City name\",\n",
      "        \"Area\",\n",
      "        \"Population\",\n",
      "        \"Annual Rainfall\"\n",
      "    ],\n",
      "    {\n",
      "        \"Annual Rainfall\": 600.5,\n",
      "        \"Area\": 1295,\n",
      "        \"City name\": \"Adelaide\",\n",
      "        \"Population\": 1158259\n",
      "    },\n",
      "    {\n",
      "        \"Annual Rainfall\": 1146.4,\n",
      "        \"Area\": 5905,\n",
      "        \"City name\": \"Brisbane\",\n",
      "        \"Population\": 1857594\n",
      "    },\n",
      "    {\n",
      "        \"Annual Rainfall\": 1714.7,\n",
      "        \"Area\": 112,\n",
      "        \"City name\": \"Darwin\",\n",
      "        \"Population\": 120900\n",
      "    },\n",
      "    {\n",
      "        \"Annual Rainfall\": 619.5,\n",
      "        \"Area\": 1357,\n",
      "        \"City name\": \"Hobart\",\n",
      "        \"Population\": 205556\n",
      "    },\n",
      "    {\n",
      "        \"Annual Rainfall\": 1214.8,\n",
      "        \"Area\": 2058,\n",
      "        \"City name\": \"Sydney\",\n",
      "        \"Population\": 4336374\n",
      "    },\n",
      "    {\n",
      "        \"Annual Rainfall\": 646.9,\n",
      "        \"Area\": 1566,\n",
      "        \"City name\": \"Melbourne\",\n",
      "        \"Population\": 3806092\n",
      "    },\n",
      "    {\n",
      "        \"Annual Rainfall\": 869.4,\n",
      "        \"Area\": 5386,\n",
      "        \"City name\": \"Perth\",\n",
      "        \"Population\": 1554769\n",
      "    }\n",
      "]\n"
     ]
    }
   ],
   "source": [
    "mystring = x.get_json_string()\n",
    "print(mystring)"
   ]
  },
  {
   "cell_type": "code",
   "execution_count": 66,
   "id": "91c839dc",
   "metadata": {},
   "outputs": [
    {
     "name": "stdout",
     "output_type": "stream",
     "text": [
      "\\begin{tabular}{cccc}\r\n",
      "City name & Area & Population & Annual Rainfall \\\\\r\n",
      "Adelaide & 1295 & 1158259 & 600.5 \\\\\r\n",
      "Brisbane & 5905 & 1857594 & 1146.4 \\\\\r\n",
      "Darwin & 112 & 120900 & 1714.7 \\\\\r\n",
      "Hobart & 1357 & 205556 & 619.5 \\\\\r\n",
      "Sydney & 2058 & 4336374 & 1214.8 \\\\\r\n",
      "Melbourne & 1566 & 3806092 & 646.9 \\\\\r\n",
      "Perth & 5386 & 1554769 & 869.4 \\\\\r\n",
      "\\end{tabular}\n"
     ]
    }
   ],
   "source": [
    "mystring = x.get_latex_string()\n",
    "print(mystring)"
   ]
  },
  {
   "cell_type": "markdown",
   "id": "98af7c68",
   "metadata": {},
   "source": [
    "### Controlling which data gets displayed"
   ]
  },
  {
   "cell_type": "code",
   "execution_count": 68,
   "id": "b03805b6",
   "metadata": {},
   "outputs": [
    {
     "name": "stdout",
     "output_type": "stream",
     "text": [
      "+-----------+------------+\n",
      "| City name | Population |\n",
      "+-----------+------------+\n",
      "|  Adelaide |  1158259   |\n",
      "|  Brisbane |  1857594   |\n",
      "|   Darwin  |   120900   |\n",
      "|   Hobart  |   205556   |\n",
      "|   Sydney  |  4336374   |\n",
      "| Melbourne |  3806092   |\n",
      "|   Perth   |  1554769   |\n",
      "+-----------+------------+\n"
     ]
    }
   ],
   "source": [
    "print(x.get_string(fields=[\"City name\", \"Population\"]))"
   ]
  },
  {
   "cell_type": "code",
   "execution_count": 70,
   "id": "f511aa33",
   "metadata": {},
   "outputs": [
    {
     "name": "stdout",
     "output_type": "stream",
     "text": [
      "+-----------+------+------------+-----------------+\n",
      "| City name | Area | Population | Annual Rainfall |\n",
      "+-----------+------+------------+-----------------+\n",
      "|  Brisbane | 5905 |  1857594   |      1146.4     |\n",
      "|   Darwin  | 112  |   120900   |      1714.7     |\n",
      "|   Hobart  | 1357 |   205556   |      619.5      |\n",
      "+-----------+------+------------+-----------------+\n"
     ]
    }
   ],
   "source": [
    "print(x.get_string(start=1, end=4))"
   ]
  },
  {
   "cell_type": "markdown",
   "id": "938b236f",
   "metadata": {},
   "source": [
    "### Changing the alignment of columns\n",
    "By default, all columns in a table are centre aligned."
   ]
  },
  {
   "cell_type": "markdown",
   "id": "d7fee13e",
   "metadata": {},
   "source": [
    "#### All columns at once\n",
    "You can change the alignment of all the columns in a table at once by assigning a one character string to the align attribute. The allowed strings are \"l\", \"r\" and \"c\" for left, right and centre alignment, respectively:"
   ]
  },
  {
   "cell_type": "code",
   "execution_count": 72,
   "id": "5b630bee",
   "metadata": {},
   "outputs": [
    {
     "name": "stdout",
     "output_type": "stream",
     "text": [
      "+-----------+------+------------+-----------------+\n",
      "| City name | Area | Population | Annual Rainfall |\n",
      "+-----------+------+------------+-----------------+\n",
      "|  Adelaide | 1295 |    1158259 |           600.5 |\n",
      "|  Brisbane | 5905 |    1857594 |          1146.4 |\n",
      "|    Darwin |  112 |     120900 |          1714.7 |\n",
      "|    Hobart | 1357 |     205556 |           619.5 |\n",
      "|    Sydney | 2058 |    4336374 |          1214.8 |\n",
      "| Melbourne | 1566 |    3806092 |           646.9 |\n",
      "|     Perth | 5386 |    1554769 |           869.4 |\n",
      "+-----------+------+------------+-----------------+\n"
     ]
    }
   ],
   "source": [
    "x.align = \"r\"\n",
    "print(x)"
   ]
  },
  {
   "cell_type": "markdown",
   "id": "78c42193",
   "metadata": {},
   "source": [
    "#### One column at a time\n",
    "You can also change the alignment of individual columns based on the corresponding field name by treating the align attribute as if it were a dictionary."
   ]
  },
  {
   "cell_type": "code",
   "execution_count": 76,
   "id": "6fdb447d",
   "metadata": {},
   "outputs": [
    {
     "name": "stdout",
     "output_type": "stream",
     "text": [
      "+-----------+------+------------+-----------------+\n",
      "| City name | Area | Population | Annual Rainfall |\n",
      "+-----------+------+------------+-----------------+\n",
      "| Adelaide  | 1295 | 1158259    |      600.5      |\n",
      "| Brisbane  | 5905 | 1857594    |      1146.4     |\n",
      "| Darwin    | 112  | 120900     |      1714.7     |\n",
      "| Hobart    | 1357 | 205556     |      619.5      |\n",
      "| Sydney    | 2058 | 4336374    |      1214.8     |\n",
      "| Melbourne | 1566 | 3806092    |      646.9      |\n",
      "| Perth     | 5386 | 1554769    |      869.4      |\n",
      "+-----------+------+------------+-----------------+\n"
     ]
    }
   ],
   "source": [
    "x.align[\"City name\"] = \"l\"\n",
    "x.align[\"Area\"] = \"c\"\n",
    "x.align[\"Population\"] = \"l\"\n",
    "x.align[\"Annual Rainfall\"] = \"c\"\n",
    "print(x)"
   ]
  }
 ],
 "metadata": {
  "kernelspec": {
   "display_name": "Python 3 (ipykernel)",
   "language": "python",
   "name": "python3"
  },
  "language_info": {
   "codemirror_mode": {
    "name": "ipython",
    "version": 3
   },
   "file_extension": ".py",
   "mimetype": "text/x-python",
   "name": "python",
   "nbconvert_exporter": "python",
   "pygments_lexer": "ipython3",
   "version": "3.9.7"
  }
 },
 "nbformat": 4,
 "nbformat_minor": 5
}
